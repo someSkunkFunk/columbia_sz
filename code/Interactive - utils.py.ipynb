{
 "cells": [
  {
   "cell_type": "markdown",
   "metadata": {
    "isInteractiveWindowMessageCell": true
   },
   "source": [
    "Connected to lalor0 (Python 3.11.4)"
   ]
  },
  {
   "cell_type": "code",
   "execution_count": 1,
   "metadata": {},
   "outputs": [],
   "source": [
    "from scipy import signal\n",
    "import numpy as np\n",
    "def get_segments(envelope:np.ndarray,fs,params=None):\n",
    "    '''\n",
    "    envelope: broadband envelope, assumed to be a 1D array\n",
    "    function that uses smoothed envelope thresholding to get indices for non-silent segments\n",
    "    in which match waves will look for stimuli\n",
    "    params: {\n",
    "    'filt_ord': sharpness of filter applied on smoothing envelope\n",
    "    'filt_freqs': lowpass filter frequency (or list bandpass limits if bandpass desired)\n",
    "    'min_sil': minimum silent period duration in seconds; \n",
    "    }\n",
    "\n",
    "    returns\n",
    "    -\n",
    "    smooth_envelope: smoothed envelope normalized between 0 and 1\n",
    "    segments: [n_segments x 2] array with first col containing indices of \n",
    "                                segment start and second col the end\n",
    "    '''\n",
    "    smooth_envelope=envelope.copy() #NOTE: useful during debugging but won't need once finished\n",
    "    assert smooth_envelope.ndim==1, \"this function assumes 1D array!\"\n",
    "    if params is None:\n",
    "        params={\n",
    "            'filt_ord':16,\n",
    "            'filt_freqs':0.1,\n",
    "            'min_sil': 3,\n",
    "            'seg_padding': 2\n",
    "        }\n",
    "    if isinstance(params['filt_freqs'], list) and len(params['filt_freqs'])==2:\n",
    "        _filt_type='bandpass'\n",
    "    elif isinstance(params['filt_freqs'],float):\n",
    "        _filt_type='low'\n",
    "    else:\n",
    "        raise NotImplementedError(f\"params['filt_freqs'] should be float or int-> {type(params['filt_freqs'])}\")\n",
    "    # rectify since we looking for overall magnitude changes\n",
    "    smooth_envelope[smooth_envelope<0]*=-1.0\n",
    "    # smooth the envelope\n",
    "    sos=signal.butter(params['filt_ord'],params['filt_freqs'],btype=_filt_type,output='sos',fs=fs)\n",
    "    smooth_envelope=signal.sosfiltfilt(sos,smooth_envelope)\n",
    "    # normalize between zero and 1\n",
    "    smooth_envelope=(smooth_envelope-smooth_envelope.min())/(smooth_envelope.max()-smooth_envelope.min())\n",
    "    \n",
    "    assert np.all(smooth_envelope<=1) and np.all(smooth_envelope>=0), \"envelope range should be between 0 and 1 here!\"\n",
    "    # get indices where smoothed envelope crosses half-median, should be 1 where envelope goes above .5 \n",
    "    # the range and -1 where it goes back below\n",
    "    loud_bits=(smooth_envelope>0.5*np.median(smooth_envelope)).astype(int)\n",
    "    crossings=np.diff(loud_bits,prepend=0)\n",
    "    # separate onsets from offsets, then pad \n",
    "    #TODO: add condition to check that amount padding via shift doesn't shift any onsets or offsets \n",
    "    # past start/end of recording array size\n",
    "    # pad onsets by removing number of samples equal to seg_padding\n",
    "    n_shift=int(params['seg_padding']*fs)\n",
    "    onsets=np.concatenate((crossings[n_shift:]==1, np.zeros(n_shift)))\n",
    "    offsets=np.concatenate((np.zeros(n_shift), crossings[:-n_shift]==-1))\n",
    "    pause_durs=(np.argwhere(onsets[1:])-np.argwhere(offsets[:-1]))/fs #in seconds\n",
    "    # remove excessively short pauses\n",
    "    if np.any(pause_durs<params['min_sil']):\n",
    "        rmv_indx=pause_durs<params['min_sil']\n",
    "        onsets[np.argwhere(onsets[1:])[rmv_indx]]=0\n",
    "        offsets[np.argwhere(offsets[:-1])[rmv_indx]]=0\n",
    "\n",
    "    segments=np.hstack([np.argwhere(onsets),np.argwhere(offsets)])\n",
    "    #TODO: check that segments is n x 2 array\n",
    "    return segments, smooth_envelope"
   ]
  }
 ],
 "metadata": {
  "kernelspec": {
   "display_name": "lalor0",
   "language": "python",
   "name": "python3"
  },
  "language_info": {
   "name": "python",
   "version": "3.11.4"
  }
 },
 "nbformat": 4,
 "nbformat_minor": 2
}
